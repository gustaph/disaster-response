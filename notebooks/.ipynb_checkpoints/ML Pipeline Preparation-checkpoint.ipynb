{
 "cells": [
  {
   "cell_type": "markdown",
   "metadata": {},
   "source": [
    "# ML Pipeline Preparation\n",
    "Follow the instructions below to help you create your ML pipeline.\n",
    "### 1. Import libraries and load data from database.\n",
    "- Import Python libraries\n",
    "- Load dataset from database with [`read_sql_table`](https://pandas.pydata.org/pandas-docs/stable/generated/pandas.read_sql_table.html)\n",
    "- Define feature and target variables X and Y"
   ]
  },
  {
   "cell_type": "code",
   "execution_count": 1,
   "metadata": {},
   "outputs": [
    {
     "name": "stderr",
     "output_type": "stream",
     "text": [
      "[nltk_data] Downloading package punkt to\n",
      "[nltk_data]     C:\\Users\\gusta\\AppData\\Roaming\\nltk_data...\n",
      "[nltk_data]   Package punkt is already up-to-date!\n",
      "[nltk_data] Downloading package stopwords to\n",
      "[nltk_data]     C:\\Users\\gusta\\AppData\\Roaming\\nltk_data...\n",
      "[nltk_data]   Package stopwords is already up-to-date!\n",
      "[nltk_data] Downloading package wordnet to\n",
      "[nltk_data]     C:\\Users\\gusta\\AppData\\Roaming\\nltk_data...\n",
      "[nltk_data]   Package wordnet is already up-to-date!\n"
     ]
    },
    {
     "data": {
      "text/plain": [
       "True"
      ]
     },
     "execution_count": 1,
     "metadata": {},
     "output_type": "execute_result"
    }
   ],
   "source": [
    "# import libraries\n",
    "import pandas as pd\n",
    "import numpy as np\n",
    "import re\n",
    "from sqlalchemy import create_engine\n",
    "from pickle import dump\n",
    "\n",
    "from sklearn.pipeline import Pipeline\n",
    "from sklearn.model_selection import train_test_split, GridSearchCV\n",
    "from sklearn.multioutput import MultiOutputClassifier\n",
    "from sklearn.feature_extraction.text import CountVectorizer, TfidfTransformer\n",
    "from sklearn.metrics import classification_report\n",
    "from sklearn.ensemble import RandomForestClassifier\n",
    "from sklearn.naive_bayes import MultinomialNB\n",
    "from sklearn.linear_model import SGDClassifier\n",
    "from lightgbm import LGBMClassifier\n",
    "\n",
    "from nltk.stem.wordnet import WordNetLemmatizer\n",
    "from nltk.tokenize import word_tokenize\n",
    "from nltk.corpus import stopwords\n",
    "import nltk\n",
    "nltk.download('punkt')\n",
    "nltk.download('stopwords')\n",
    "nltk.download('wordnet')"
   ]
  },
  {
   "cell_type": "code",
   "execution_count": 2,
   "metadata": {},
   "outputs": [],
   "source": [
    "# load data from database\n",
    "engine = create_engine('sqlite:///../data/DisasterResponse.db') # access data from database\n",
    "df = pd.read_sql_table('disaster_response', engine) # get data from database\n",
    "\n",
    "category_columns = df.drop(['id', 'message', 'original', 'genre'], axis=1).columns\n",
    "\n",
    "X = df['message'].values\n",
    "Y = df.drop(['id', 'message', 'original', 'genre'], axis=1).values"
   ]
  },
  {
   "cell_type": "markdown",
   "metadata": {},
   "source": [
    "### 2. Write a tokenization function to process your text data"
   ]
  },
  {
   "cell_type": "code",
   "execution_count": 3,
   "metadata": {},
   "outputs": [],
   "source": [
    "# regex obtained from Udacity course classes\n",
    "url_regex = \"http[s]?://(?:[a-zA-Z]|[0-9]|[$-_@.&+]|[!*\\(\\),]|(?:%[0-9a-fA-F][0-9a-fA-F]))+\"\n",
    "\n",
    "def tokenize(text: str) -> list:\n",
    "    '''\n",
    "    function that transforms raw text into clean tokens\n",
    "    \n",
    "    Args:\n",
    "        - text: str -> text to be tokenized\n",
    "    Returns:\n",
    "        - token list\n",
    "    '''\n",
    "    \n",
    "    clean_text = re.sub(r'[^a-z-A-Z]|\\W', ' ', text.lower()) # remove everything but characters\n",
    "    clean_text = re.sub(url_regex, 'urlplaceholder', clean_text) # replace url's by `urlplaceholder`\n",
    "    \n",
    "    tokens = word_tokenize(clean_text) # tokenize text\n",
    "    lemmatizer = WordNetLemmatizer() # instatiate lemmatizer\n",
    "    \n",
    "    clean_tokens = []\n",
    "    for token in tokens:\n",
    "        clean_token = lemmatizer.lemmatize(token).strip() # lemmatize word\n",
    "        clean_token = lemmatizer.lemmatize(clean_token, pos='v') # lemmatize again operating by verbs\n",
    "        \n",
    "        if clean_token not in stopwords.words(\"english\"): # remove stopwords\n",
    "            clean_tokens.append(clean_token)\n",
    "    \n",
    "    return clean_tokens"
   ]
  },
  {
   "cell_type": "markdown",
   "metadata": {},
   "source": [
    "### 3. Build a machine learning pipeline\n",
    "This machine pipeline should take in the `message` column as input and output classification results on the other 36 categories in the dataset. You may find the [MultiOutputClassifier](http://scikit-learn.org/stable/modules/generated/sklearn.multioutput.MultiOutputClassifier.html) helpful for predicting multiple target variables."
   ]
  },
  {
   "cell_type": "code",
   "execution_count": 4,
   "metadata": {},
   "outputs": [],
   "source": [
    "# instantiate the main Pipeline with MultiOutputClassifier based on RandomForestClassifer\n",
    "\n",
    "pipeline = Pipeline([\n",
    "    ('count', CountVectorizer(tokenizer=tokenize)), # bag of words based on `tokenize` function\n",
    "    ('tfidf', TfidfTransformer()), # TF-IDF transformer\n",
    "    ('clf', MultiOutputClassifier(estimator=RandomForestClassifier(n_jobs=-1), n_jobs=-1)), \n",
    "])"
   ]
  },
  {
   "cell_type": "markdown",
   "metadata": {},
   "source": [
    "### 4. Train pipeline\n",
    "- Split data into train and test sets\n",
    "- Train pipeline"
   ]
  },
  {
   "cell_type": "code",
   "execution_count": 5,
   "metadata": {},
   "outputs": [
    {
     "data": {
      "text/plain": [
       "Pipeline(steps=[('count',\n",
       "                 CountVectorizer(tokenizer=<function tokenize at 0x00000253809AA0D0>)),\n",
       "                ('tfidf', TfidfTransformer()),\n",
       "                ('clf',\n",
       "                 MultiOutputClassifier(estimator=RandomForestClassifier(n_jobs=-1),\n",
       "                                       n_jobs=-1))])"
      ]
     },
     "execution_count": 5,
     "metadata": {},
     "output_type": "execute_result"
    }
   ],
   "source": [
    "X_train, X_test, y_train, y_test = train_test_split(X, Y) # split data into train & test sets\n",
    "pipeline.fit(X_train, y_train) # fit the data on the classifier"
   ]
  },
  {
   "cell_type": "markdown",
   "metadata": {},
   "source": [
    "### 5. Test your model\n",
    "Report the f1 score, precision and recall for each output category of the dataset. You can do this by iterating through the columns and calling sklearn's `classification_report` on each."
   ]
  },
  {
   "cell_type": "code",
   "execution_count": 6,
   "metadata": {},
   "outputs": [],
   "source": [
    "def get_classification(model, X_test: np.array, y_test: pd.DataFrame) -> None:\n",
    "    '''\n",
    "    shows the overall ranking of each target column\n",
    "    \n",
    "    Args:\n",
    "        - model:\n",
    "        - X_train\n",
    "    Returns:\n",
    "    '''\n",
    "    \n",
    "    y_pred = model.predict(X_test) # predict data\n",
    "    \n",
    "    for i, column in enumerate(category_columns):\n",
    "        print(f\"({column}):\")\n",
    "        print(classification_report(y_test[:,i], y_pred[:,i], zero_division=1))\n",
    "    \n",
    "    print(\"TOTAL ACC:\", (y_pred == y_test).mean())\n",
    "        \n",
    "    return"
   ]
  },
  {
   "cell_type": "code",
   "execution_count": 7,
   "metadata": {},
   "outputs": [],
   "source": [
    "def test_model(model, text='rain followed by hurricane left thousands of people starving and thirsty') -> list:\n",
    "    '''\n",
    "    function used to test model prediction\n",
    "    \n",
    "    Args:\n",
    "        - model: trained model\n",
    "        - text: disaster news to be predicted\n",
    "    Returns: disaster response according to model prediction\n",
    "    '''\n",
    "    classification_labels = model.predict([text])[0]\n",
    "    classification_results = dict(zip(df.columns[4:], classification_labels))\n",
    "    \n",
    "    return [key for key, value in classification_results.items() if value == 1]"
   ]
  },
  {
   "cell_type": "code",
   "execution_count": 8,
   "metadata": {},
   "outputs": [
    {
     "data": {
      "text/plain": [
       "['related', 'aid_related', 'water', 'food', 'weather_related', 'storm']"
      ]
     },
     "execution_count": 8,
     "metadata": {},
     "output_type": "execute_result"
    }
   ],
   "source": [
    "test_model(pipeline)"
   ]
  },
  {
   "cell_type": "code",
   "execution_count": null,
   "metadata": {},
   "outputs": [],
   "source": [
    "# report of all rows\n",
    "get_classification(pipeline, X_test, y_test)"
   ]
  },
  {
   "cell_type": "markdown",
   "metadata": {},
   "source": [
    "### 6. Improve your model\n",
    "Use grid search to find better parameters. "
   ]
  },
  {
   "cell_type": "code",
   "execution_count": 17,
   "metadata": {},
   "outputs": [
    {
     "data": {
      "text/plain": [
       "{'memory': None,\n",
       " 'steps': [('count',\n",
       "   CountVectorizer(tokenizer=<function tokenize at 0x0000023D809DC550>)),\n",
       "  ('tfidf', TfidfTransformer()),\n",
       "  ('clf',\n",
       "   MultiOutputClassifier(estimator=RandomForestClassifier(n_jobs=-1), n_jobs=-1))],\n",
       " 'verbose': False,\n",
       " 'count': CountVectorizer(tokenizer=<function tokenize at 0x0000023D809DC550>),\n",
       " 'tfidf': TfidfTransformer(),\n",
       " 'clf': MultiOutputClassifier(estimator=RandomForestClassifier(n_jobs=-1), n_jobs=-1),\n",
       " 'count__analyzer': 'word',\n",
       " 'count__binary': False,\n",
       " 'count__decode_error': 'strict',\n",
       " 'count__dtype': numpy.int64,\n",
       " 'count__encoding': 'utf-8',\n",
       " 'count__input': 'content',\n",
       " 'count__lowercase': True,\n",
       " 'count__max_df': 1.0,\n",
       " 'count__max_features': None,\n",
       " 'count__min_df': 1,\n",
       " 'count__ngram_range': (1, 1),\n",
       " 'count__preprocessor': None,\n",
       " 'count__stop_words': None,\n",
       " 'count__strip_accents': None,\n",
       " 'count__token_pattern': '(?u)\\\\b\\\\w\\\\w+\\\\b',\n",
       " 'count__tokenizer': <function __main__.tokenize(text: str) -> list>,\n",
       " 'count__vocabulary': None,\n",
       " 'tfidf__norm': 'l2',\n",
       " 'tfidf__smooth_idf': True,\n",
       " 'tfidf__sublinear_tf': False,\n",
       " 'tfidf__use_idf': True,\n",
       " 'clf__estimator__bootstrap': True,\n",
       " 'clf__estimator__ccp_alpha': 0.0,\n",
       " 'clf__estimator__class_weight': None,\n",
       " 'clf__estimator__criterion': 'gini',\n",
       " 'clf__estimator__max_depth': None,\n",
       " 'clf__estimator__max_features': 'auto',\n",
       " 'clf__estimator__max_leaf_nodes': None,\n",
       " 'clf__estimator__max_samples': None,\n",
       " 'clf__estimator__min_impurity_decrease': 0.0,\n",
       " 'clf__estimator__min_impurity_split': None,\n",
       " 'clf__estimator__min_samples_leaf': 1,\n",
       " 'clf__estimator__min_samples_split': 2,\n",
       " 'clf__estimator__min_weight_fraction_leaf': 0.0,\n",
       " 'clf__estimator__n_estimators': 100,\n",
       " 'clf__estimator__n_jobs': -1,\n",
       " 'clf__estimator__oob_score': False,\n",
       " 'clf__estimator__random_state': None,\n",
       " 'clf__estimator__verbose': 0,\n",
       " 'clf__estimator__warm_start': False,\n",
       " 'clf__estimator': RandomForestClassifier(n_jobs=-1),\n",
       " 'clf__n_jobs': -1}"
      ]
     },
     "execution_count": 17,
     "metadata": {},
     "output_type": "execute_result"
    }
   ],
   "source": [
    "pipeline.get_params() # get the classifier parameters"
   ]
  },
  {
   "cell_type": "code",
   "execution_count": null,
   "metadata": {},
   "outputs": [],
   "source": [
    "'''\n",
    "> REFERENCES:\n",
    "    * Hyperparameter Tuning the Random Forest in Python [https://towardsdatascience.com/hyperparameter-tuning-the-random-forest-in-python-using-scikit-learn-28d2aa77dd74];\n",
    "    * Tuning the parameters of your Random Forest model [https://www.analyticsvidhya.com/blog/2015/06/tuning-random-forest-model/] \n",
    "'''\n",
    "\n",
    "parameters = {'clf__estimator__n_estimators' : (10, 20, 50)   \n",
    "              'clf__estimator__max_features': ('auto', 'sqrt'),\n",
    "              'clf__estimator__max_depth': (None, 10, 50, 100),\n",
    "              'clf__estimator__min_samples_leaf': (1, 10, 50),\n",
    "            }\n",
    "\n",
    "cv = GridSearchCV(pipeline, param_grid=parameters) # operating GridSearch to find best parameters\n",
    "cv.fit(X_train, y_train) # fit model on split data"
   ]
  },
  {
   "cell_type": "code",
   "execution_count": 19,
   "metadata": {},
   "outputs": [],
   "source": [
    "print(\"BEST ESTIMATOR:\")\n",
    "print(cv.best_estimator_)  # best estimator found by GridSearch\n",
    "print(\"BEST PARAMS:\")\n",
    "print(cv.best_params_) # best parameters of the estimator"
   ]
  },
  {
   "cell_type": "code",
   "execution_count": 9,
   "metadata": {},
   "outputs": [],
   "source": [
    "# result\n",
    "\n",
    "pipeline = Pipeline([\n",
    "    ('count', CountVectorizer(tokenizer=tokenize)), # bag of words based on `tokenize` function\n",
    "    ('tfidf', TfidfTransformer()), # TF-IDF transformer\n",
    "    ('clf', MultiOutputClassifier(estimator=RandomForestClassifier(\n",
    "        n_estimators=20, max_features='sqrt', n_jobs=-1), n_jobs=-1)), \n",
    "])"
   ]
  },
  {
   "cell_type": "code",
   "execution_count": 10,
   "metadata": {},
   "outputs": [
    {
     "data": {
      "text/plain": [
       "Pipeline(steps=[('count',\n",
       "                 CountVectorizer(tokenizer=<function tokenize at 0x00000253809AA0D0>)),\n",
       "                ('tfidf', TfidfTransformer()),\n",
       "                ('clf',\n",
       "                 MultiOutputClassifier(estimator=RandomForestClassifier(max_features='sqrt',\n",
       "                                                                        n_estimators=20,\n",
       "                                                                        n_jobs=-1),\n",
       "                                       n_jobs=-1))])"
      ]
     },
     "execution_count": 10,
     "metadata": {},
     "output_type": "execute_result"
    }
   ],
   "source": [
    "pipeline.fit(X_train, y_train) # fit the data on the classifier"
   ]
  },
  {
   "cell_type": "markdown",
   "metadata": {},
   "source": [
    "### 7. Test your model\n",
    "Show the accuracy, precision, and recall of the tuned model.  \n",
    "\n",
    "Since this project focuses on code quality, process, and  pipelines, there is no minimum performance metric needed to pass. However, make sure to fine tune your models for accuracy, precision and recall to make your project stand out - especially for your portfolio!"
   ]
  },
  {
   "cell_type": "code",
   "execution_count": 11,
   "metadata": {},
   "outputs": [
    {
     "data": {
      "text/plain": [
       "['related',\n",
       " 'aid_related',\n",
       " 'water',\n",
       " 'food',\n",
       " 'weather_related',\n",
       " 'storm',\n",
       " 'direct_report']"
      ]
     },
     "execution_count": 11,
     "metadata": {},
     "output_type": "execute_result"
    }
   ],
   "source": [
    "# report of all rows\n",
    "get_classification(pipeline, X_test, y_test)\n",
    "test_model(pipeline)"
   ]
  },
  {
   "cell_type": "markdown",
   "metadata": {},
   "source": [
    "### 8. Try improving your model further. Here are a few ideas:\n",
    "* try other machine learning algorithms\n",
    "* add other features besides the TF-IDF"
   ]
  },
  {
   "cell_type": "markdown",
   "metadata": {},
   "source": [
    "#### **LGBMClassifier**"
   ]
  },
  {
   "cell_type": "code",
   "execution_count": 57,
   "metadata": {},
   "outputs": [
    {
     "data": {
      "text/plain": [
       "Pipeline(steps=[('count',\n",
       "                 CountVectorizer(tokenizer=<function tokenize at 0x00000253809AA0D0>)),\n",
       "                ('tfidf', TfidfTransformer()),\n",
       "                ('clf',\n",
       "                 MultiOutputClassifier(estimator=LGBMClassifier(class_weight='balanced',\n",
       "                                                                feature_fraction=0.6,\n",
       "                                                                learning_rate=0.2,\n",
       "                                                                max_depth=10,\n",
       "                                                                n_estimators=30,\n",
       "                                                                num_leaves=20,\n",
       "                                                                subsample=0.2),\n",
       "                                       n_jobs=-1))])"
      ]
     },
     "execution_count": 57,
     "metadata": {},
     "output_type": "execute_result"
    }
   ],
   "source": [
    "'''\n",
    "> REFERENCES:\n",
    "    * Understanding LightGBM Parameters (and How to Tune Them) [https://neptune.ai/blog/lightgbm-parameters-guide]\n",
    "'''\n",
    "\n",
    "PARAMS = {'learning_rate': 0.2,\n",
    "          'max_depth': 10,\n",
    "          'num_leaves': 20,\n",
    "          'feature_fraction': 0.6,\n",
    "          'subsample': 0.2,\n",
    "          'class_weight': 'balanced',\n",
    "          'n_estimators': 30\n",
    "         }\n",
    "\n",
    "pipeline2 = Pipeline([\n",
    "    ('count', CountVectorizer(tokenizer=tokenize)),\n",
    "    ('tfidf', TfidfTransformer()),\n",
    "    ('clf', MultiOutputClassifier(estimator=LGBMClassifier(**PARAMS), n_jobs=-1))\n",
    "])\n",
    "\n",
    "pipeline2.fit(X_train, y_train) # fit the data on the classifier"
   ]
  },
  {
   "cell_type": "code",
   "execution_count": 58,
   "metadata": {},
   "outputs": [
    {
     "data": {
      "text/plain": [
       "['related',\n",
       " 'aid_related',\n",
       " 'food',\n",
       " 'death',\n",
       " 'weather_related',\n",
       " 'storm',\n",
       " 'other_weather',\n",
       " 'direct_report']"
      ]
     },
     "execution_count": 58,
     "metadata": {},
     "output_type": "execute_result"
    }
   ],
   "source": [
    "test_model(pipeline2)"
   ]
  },
  {
   "cell_type": "code",
   "execution_count": 59,
   "metadata": {},
   "outputs": [
    {
     "name": "stdout",
     "output_type": "stream",
     "text": [
      "['related', 'aid_related', 'medical_help']\n",
      "['related', 'medical_help', 'infrastructure_related', 'buildings', 'other_infrastructure']\n"
     ]
    }
   ],
   "source": [
    "print(test_model(pipeline, 'lightning destroys building leaving many injured'))\n",
    "print(test_model(pipeline2, 'lightning destroys building leaving many injured'))"
   ]
  },
  {
   "cell_type": "markdown",
   "metadata": {},
   "source": [
    "#### **MultinomialNB**"
   ]
  },
  {
   "cell_type": "code",
   "execution_count": 53,
   "metadata": {},
   "outputs": [
    {
     "data": {
      "text/plain": [
       "Pipeline(steps=[('count',\n",
       "                 CountVectorizer(tokenizer=<function tokenize at 0x0000023D809DC550>)),\n",
       "                ('tfidf', TfidfTransformer()),\n",
       "                ('clf',\n",
       "                 MultiOutputClassifier(estimator=MultinomialNB(), n_jobs=-1))])"
      ]
     },
     "execution_count": 53,
     "metadata": {},
     "output_type": "execute_result"
    }
   ],
   "source": [
    "pipeline3 = Pipeline([\n",
    "    ('count', CountVectorizer(tokenizer=tokenize)),\n",
    "    ('tfidf', TfidfTransformer()),\n",
    "    ('clf', MultiOutputClassifier(estimator=MultinomialNB(), n_jobs=-1)),\n",
    "])\n",
    "\n",
    "pipeline3.fit(X_train, y_train)"
   ]
  },
  {
   "cell_type": "code",
   "execution_count": 54,
   "metadata": {},
   "outputs": [
    {
     "data": {
      "text/plain": [
       "['related', 'aid_related', 'weather_related']"
      ]
     },
     "execution_count": 54,
     "metadata": {},
     "output_type": "execute_result"
    }
   ],
   "source": [
    "test_model(pipeline3)"
   ]
  },
  {
   "cell_type": "code",
   "execution_count": 56,
   "metadata": {},
   "outputs": [
    {
     "name": "stdout",
     "output_type": "stream",
     "text": [
      "Fitting 5 folds for each of 9 candidates, totalling 45 fits\n"
     ]
    },
    {
     "data": {
      "text/plain": [
       "GridSearchCV(estimator=Pipeline(steps=[('count',\n",
       "                                        CountVectorizer(tokenizer=<function tokenize at 0x0000023D809DC550>)),\n",
       "                                       ('tfidf', TfidfTransformer()),\n",
       "                                       ('clf',\n",
       "                                        MultiOutputClassifier(estimator=MultinomialNB(),\n",
       "                                                              n_jobs=-1))]),\n",
       "             param_grid={'clf__estimator__alpha': (0.5, 0.75, 1.0),\n",
       "                         'count__max_df': (0.5, 0.75, 1.0)},\n",
       "             verbose=1)"
      ]
     },
     "execution_count": 56,
     "metadata": {},
     "output_type": "execute_result"
    }
   ],
   "source": [
    "parameters = {\n",
    "        'count__max_df': (0.5, 0.75, 1.0),\n",
    "        'clf__estimator__alpha': (0.5, 0.75, 1.0),\n",
    "    }\n",
    "\n",
    "grid_search = GridSearchCV(pipeline3, parameters, verbose=1)\n",
    "grid_search.fit(X_train, y_train)"
   ]
  },
  {
   "cell_type": "code",
   "execution_count": 57,
   "metadata": {},
   "outputs": [
    {
     "data": {
      "text/plain": [
       "['related', 'aid_related', 'weather_related', 'direct_report']"
      ]
     },
     "execution_count": 57,
     "metadata": {},
     "output_type": "execute_result"
    }
   ],
   "source": [
    "test_model(grid_search)"
   ]
  },
  {
   "cell_type": "code",
   "execution_count": 58,
   "metadata": {},
   "outputs": [
    {
     "data": {
      "text/plain": [
       "Pipeline(steps=[('count',\n",
       "                 CountVectorizer(max_df=0.5,\n",
       "                                 tokenizer=<function tokenize at 0x0000023D809DC550>)),\n",
       "                ('tfidf', TfidfTransformer()),\n",
       "                ('clf',\n",
       "                 MultiOutputClassifier(estimator=MultinomialNB(alpha=0.5),\n",
       "                                       n_jobs=-1))])"
      ]
     },
     "execution_count": 58,
     "metadata": {},
     "output_type": "execute_result"
    }
   ],
   "source": [
    "grid_search.best_estimator_"
   ]
  },
  {
   "cell_type": "markdown",
   "metadata": {},
   "source": [
    "### 9. Export your model as a pickle file"
   ]
  },
  {
   "cell_type": "code",
   "execution_count": 60,
   "metadata": {},
   "outputs": [],
   "source": [
    "with open('classifier.pkl', 'wb') as f:\n",
    "    dump(pipeline2, f)"
   ]
  },
  {
   "cell_type": "markdown",
   "metadata": {},
   "source": [
    "### 10. Use this notebook to complete `train.py`\n",
    "Use the template file attached in the Resources folder to write a script that runs the steps above to create a database and export a model based on a new dataset specified by the user."
   ]
  },
  {
   "cell_type": "code",
   "execution_count": null,
   "metadata": {},
   "outputs": [],
   "source": []
  }
 ],
 "metadata": {
  "kernelspec": {
   "display_name": "Python 3",
   "language": "python",
   "name": "python3"
  },
  "language_info": {
   "codemirror_mode": {
    "name": "ipython",
    "version": 3
   },
   "file_extension": ".py",
   "mimetype": "text/x-python",
   "name": "python",
   "nbconvert_exporter": "python",
   "pygments_lexer": "ipython3",
   "version": "3.8.10"
  }
 },
 "nbformat": 4,
 "nbformat_minor": 4
}
